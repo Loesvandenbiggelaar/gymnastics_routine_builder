{
 "cells": [
  {
   "cell_type": "code",
   "execution_count": 62,
   "metadata": {},
   "outputs": [],
   "source": [
    "# import PyPDF2\n",
    "import fitz\n",
    "# import copy\n",
    "import os\n",
    "import re"
   ]
  },
  {
   "cell_type": "code",
   "execution_count": 3,
   "metadata": {},
   "outputs": [],
   "source": [
    "file = \"en_2022-2024 WAG COP.pdf\""
   ]
  },
  {
   "cell_type": "code",
   "execution_count": 5,
   "metadata": {},
   "outputs": [],
   "source": [
    "def writeImage(image_path, image_bytes, count=1):\n",
    "    # string = \"page80_element_2.405_1.png\"\n",
    "    if count == 1:\n",
    "        image_path = image_path.replace(\".png\", f\"_{count}.png\")\n",
    "    else:\n",
    "        image_path = re.sub(r\"(\\d?).png\", count+\".png\", image_path)\n",
    "    if os.path.exists(image_path):\n",
    "        writeImage(image_path, image_bytes, count+1)\n",
    "    else:\n",
    "        with open(image_path, \"wb\") as image_file:\n",
    "            image_file.write(image_bytes)\n",
    "\n",
    "def getPageLayout(page):\n",
    "    bbox = page.bleedbox\n",
    "    if bbox.x1-bbox.y1 < 0:\n",
    "        return \"portrait\"\n",
    "    else:\n",
    "        return \"landscape\"\n",
    "    \n",
    "def extract_text_and_images(pdf_path, output_folder, target_page, regex_pattern):\n",
    "    # Create output folder if it doesn't exist\n",
    "    if not os.path.exists(output_folder):\n",
    "        os.makedirs(output_folder)\n",
    "\n",
    "    # Open the PDF file\n",
    "    pdf_document = fitz.open(pdf_path)\n",
    "    \n",
    "    # Check if the target page is within the range of pages\n",
    "    if target_page < 0 or target_page >= len(pdf_document):\n",
    "        print(\"Error: Invalid target page number.\")\n",
    "        return\n",
    "    \n",
    "    page = pdf_document.load_page(target_page)\n",
    "    page_layout = getPageLayout(page)\n",
    "\n",
    "    # Extract text from the page\n",
    "    page_text = page.get_text()\n",
    "    # print(page_text)\n",
    "    found_text = re.findall(regex_pattern, page_text)\n",
    "    print(\"FOUND\", found_text)\n",
    "    # Extract images and their positions\n",
    "    images = page.get_images(full=True)\n",
    "    \n",
    "    # Loop through images on the page\n",
    "    for img_info in images:\n",
    "        xref = img_info[0]\n",
    "        base_image = pdf_document.extract_image(xref)\n",
    "        image_bytes = base_image[\"image\"]\n",
    "\n",
    "        # Get the text closest and above the image\n",
    "        bbox_image = page.get_image_bbox(img_info[7])\n",
    "        # print(\"bbox img\", bbox_image)\n",
    "\n",
    "        if (bbox_image.bottom_right - bbox_image.top_left)[0] < 75:\n",
    "            # assumed to be a \n",
    "            print(\"assuming\", img_info[7], \"is a judge symbol\")\n",
    "            continue\n",
    "\n",
    "\n",
    "        found = \"\"\n",
    "    \n",
    "        optionA = []\n",
    "        closestx = 1e6\n",
    "        for item in found_text:\n",
    "            for field in page.search_for(item):\n",
    "                if page_layout == \"portrait\":\n",
    "                    text_y1 = field.x1\n",
    "                    text_x1 = abs(field.y0 - page.bleedbox.y1)\n",
    "                else:\n",
    "                    text_y1 = field.y1\n",
    "                    text_x1 = field.x1\n",
    "                x = round(bbox_image.y0 - round(text_y1))\n",
    "                # print(field)\n",
    "                # print(bbox_image)\n",
    "                if x < 0:\n",
    "                    continue\n",
    "                if x < 15:\n",
    "                    # In this case the number is too close to the picture and it is assumed its a number from the points; e.g. \"3.20 P.\" instead of element 3.20\n",
    "                    continue\n",
    "                if x == closestx:\n",
    "                    optionA.append(item)\n",
    "                    closestx = x\n",
    "                elif x < closestx:\n",
    "                    optionA = [item]\n",
    "                    closestx = x\n",
    "                # print(optionA)\n",
    "                for option in optionA:\n",
    "                    # print(field)\n",
    "                    # print(bbox_image.x0, text_x1, bbox_image.x1)\n",
    "                    if bbox_image.x0 < text_x1 < bbox_image.x1:\n",
    "                        # print(\"hurray\", item)\n",
    "                        found = option\n",
    "                        pass\n",
    "            \n",
    "        if found != \"\":\n",
    "            image_path = os.path.join(output_folder, f\"page{target_page}_element_{found}.png\")\n",
    "            \n",
    "            writeImage(image_path, image_bytes)\n",
    "        else:\n",
    "            print(\"warning! could not process \", img_info[7])\n",
    "    pdf_document.close()\n",
    "\n",
    "# Example usage\n",
    "pdf_file_path = file\n",
    "output_folder = \"../data/images/\"\n",
    "target_page = 104  # Specify the page number you want to extract text and images from\n",
    "regex_pattern = re.compile(r\"(\\d+\\.\\d+)\\s?\\n\")  # Specify your regex pattern here\n",
    "# extract_text_and_images(pdf_file_path, output_folder, target_page, regex_pattern)\n"
   ]
  },
  {
   "cell_type": "code",
   "execution_count": 98,
   "metadata": {},
   "outputs": [
    {
     "data": {
      "text/plain": [
       "'portrait'"
      ]
     },
     "execution_count": 98,
     "metadata": {},
     "output_type": "execute_result"
    }
   ],
   "source": [
    "pdf_document = fitz.open(file)\n",
    "page = pdf_document.load_page(page_id=165)\n",
    "getPageLayout(page=page)"
   ]
  },
  {
   "cell_type": "code",
   "execution_count": 99,
   "metadata": {},
   "outputs": [
    {
     "name": "stdout",
     "output_type": "stream",
     "text": [
      "['4.000', '4.103', '4.203', '4.303', '4.403', '4.503', '4.603', '4.104', '4.304', '4.404', '4.504', '4.604', '4.105', '4.205', '4.305', '4.405', '4.505', '4.605', '4.805']\n"
     ]
    }
   ],
   "source": [
    "page_text = page.get_text()\n",
    "# print(page_text)\n",
    "found_text = re.findall(r\"(\\d+\\.\\d+)\\s+\\n?(?!P\\.)\", page_text)\n",
    "print(found_text)"
   ]
  },
  {
   "cell_type": "code",
   "execution_count": 126,
   "metadata": {},
   "outputs": [],
   "source": [
    "# left, up, right, bottom\n",
    "# clip = fitz.Rect(28.19099998474121 - 50, 113.76000213623047 - 50, 145.79100036621094 + 50, 186.24000549316406)\n",
    "clip = page.get_image_bbox(page.get_images()[1][7])\n",
    "# clip = fitz.Rect(168.59100341796875, 103.19999694824219 - 50, 277.0710144042969, 162.72000122070312)\n",
    "pix = page.get_pixmap(matrix=fitz.Matrix(2, 2), clip=clip)\n",
    "pix.save(\"test.png\")"
   ]
  },
  {
   "cell_type": "code",
   "execution_count": 134,
   "metadata": {},
   "outputs": [
    {
     "name": "stdout",
     "output_type": "stream",
     "text": [
      "bbox Rect(686.510009765625, 295.67999267578125, 794.27001953125, 353.5199890136719)\n",
      "4.000 Rect(35.74916076660156, 495.4164733886719, 46.94337844848633, 520.469482421875)\n",
      "4.103 Rect(59.855918884277344, 793.6513671875, 68.77107238769531, 813.6295166015625)\n",
      "4.203 Rect(59.855918884277344, 671.2512817382812, 68.77107238769531, 691.2293701171875)\n",
      "4.303 Rect(59.855918884277344, 536.611572265625, 68.77107238769531, 556.589599609375)\n",
      "4.403 Rect(59.855918884277344, 476.01507568359375, 68.77107238769531, 495.9931640625)\n",
      "4.503 Rect(59.855918884277344, 422.0206298828125, 68.77107238769531, 441.99871826171875)\n",
      "4.603 Rect(59.855918884277344, 273.52227783203125, 68.77107238769531, 293.5003662109375)\n",
      "4.104 Rect(160.29592895507812, 793.6513671875, 169.21107482910156, 813.6295166015625)\n",
      "4.304 Rect(160.29592895507812, 536.6099243164062, 169.21107482910156, 556.5880126953125)\n",
      "4.404 Rect(160.29592895507812, 476.0093994140625, 169.21107482910156, 495.98748779296875)\n",
      "4.504 Rect(160.29592895507812, 422.0093994140625, 169.21107482910156, 441.98748779296875)\n",
      "4.604 Rect(160.29592895507812, 273.50848388671875, 169.21107482910156, 293.486572265625)\n",
      "4.105 Rect(258.3959045410156, 793.6513671875, 267.3110656738281, 813.6295166015625)\n",
      "4.205 Rect(258.3966979980469, 671.25048828125, 267.3118591308594, 691.2286376953125)\n",
      "4.305 Rect(258.39752197265625, 536.6099243164062, 267.31268310546875, 556.5880126953125)\n",
      "4.405 Rect(258.39752197265625, 476.0093994140625, 267.31268310546875, 495.98748779296875)\n",
      "4.505 Rect(258.3983154296875, 422.0093994140625, 267.3134765625, 441.98748779296875)\n",
      "4.605 Rect(258.3954162597656, 273.51129150390625, 267.3105773925781, 293.4893798828125)\n",
      "4.805 Rect(411.33660888671875, 273.51141357421875, 420.25177001953125, 293.489501953125)\n",
      "[['4.105', 48.3486328125], ['4.205', 170.74951171875], ['4.305', 305.39007568359375], ['4.405', 365.9906005859375], ['4.505', 419.9906005859375], ['4.605', 568.4887084960938]]\n",
      "4.105 686.510009765625 48.3486328125 794.27001953125\n",
      "4.205 686.510009765625 170.74951171875 794.27001953125\n",
      "4.305 686.510009765625 305.39007568359375 794.27001953125\n",
      "4.405 686.510009765625 365.9906005859375 794.27001953125\n",
      "4.505 686.510009765625 419.9906005859375 794.27001953125\n",
      "4.605 686.510009765625 568.4887084960938 794.27001953125\n",
      "4.105 745.92138671875 1000000.0\n",
      "4.205 623.5205078125 745.92138671875\n",
      "4.305 488.87994384765625 623.5205078125\n",
      "4.405 428.2794189453125 488.87994384765625\n",
      "4.505 374.2794189453125 428.2794189453125\n",
      "4.605 225.78131103515625 374.2794189453125\n"
     ]
    },
    {
     "data": {
      "text/plain": [
       "'4.605'"
      ]
     },
     "execution_count": 134,
     "metadata": {},
     "output_type": "execute_result"
    }
   ],
   "source": [
    "def findText(page, image, found_text, page_layout):\n",
    "    found = \"\"\n",
    "    optionA = []\n",
    "    closestx = 1e6\n",
    "    bbox_image = page.get_image_bbox(image[7])\n",
    "    print(\"bbox\", bbox_image)\n",
    "    for item in found_text:\n",
    "        for field in page.search_for(item):\n",
    "            print(item, field)\n",
    "            # some pages have a portrait mode, other landscape mode. \n",
    "            # This is important when matching the text with images. \n",
    "            # if the page is in portrait mode, we need to do a new calculation to make sure the matching works.\n",
    "            if page_layout == \"portrait\":\n",
    "                text_y1 = field.x1\n",
    "                text_x1 = abs(field.y0 - page.bleedbox.y1)\n",
    "                # text_x1 = field.y0\n",
    "            elif page_layout == \"landscape\":\n",
    "                text_y1 = field.y1\n",
    "                text_x1 = field.x1\n",
    "            elif page_layout == \"other\":\n",
    "                text_y1 = field.y1\n",
    "                text_x1 = abs( field.x1 - page.bleedbox.y1)\n",
    "            diff = round(bbox_image.y0 - round(text_y1 /10)* 10)\n",
    "            if diff < 0:\n",
    "                continue\n",
    "            if diff < 10:\n",
    "                # In this case the number is too close to the picture and it is assumed its a number from the points; e.g. \"3.20 P.\" instead of element 3.20\n",
    "                print(\"yes\")\n",
    "                continue\n",
    "            if diff == closestx:\n",
    "                optionA.append([item, text_x1])\n",
    "                closestx = diff\n",
    "            elif diff < closestx:\n",
    "                optionA = [[item, text_x1]]\n",
    "                closestx = diff\n",
    "    \n",
    "    print(optionA)\n",
    "    for option, text_x1 in optionA:\n",
    "        print(option, bbox_image.x0, text_x1, bbox_image.x1)\n",
    "        if bbox_image.x0 - 35 < text_x1 < bbox_image.x1 :\n",
    "            found = option\n",
    "            print(\"found\", found)\n",
    "   \n",
    "    \n",
    "    if found == \"\":\n",
    "        distance = 1e6\n",
    "        for option, text_x1 in optionA:\n",
    "            print(option, bbox_image.x1 - text_x1 , distance)\n",
    "            if 0 < bbox_image.x1 - text_x1 < distance:\n",
    "                distance = bbox_image.x1 - text_x1\n",
    "                found = option\n",
    "\n",
    "    return found\n",
    "\n",
    "findText(page, page.get_images()[1], found_text, \"portrait\" )"
   ]
  },
  {
   "cell_type": "code",
   "execution_count": 70,
   "metadata": {},
   "outputs": [
    {
     "data": {
      "text/plain": [
       "595.3200073242188"
      ]
     },
     "execution_count": 70,
     "metadata": {},
     "output_type": "execute_result"
    }
   ],
   "source": [
    "page.bleedbox.y1"
   ]
  },
  {
   "cell_type": "code",
   "execution_count": 58,
   "metadata": {},
   "outputs": [
    {
     "data": {
      "text/plain": [
       "400"
      ]
     },
     "execution_count": 58,
     "metadata": {},
     "output_type": "execute_result"
    }
   ],
   "source": [
    "round(397.6838073730469/10)* 10"
   ]
  },
  {
   "cell_type": "code",
   "execution_count": 57,
   "metadata": {},
   "outputs": [
    {
     "data": {
      "text/plain": [
       "400"
      ]
     },
     "execution_count": 57,
     "metadata": {},
     "output_type": "execute_result"
    }
   ],
   "source": [
    "round(396.72381591796875/10)* 10"
   ]
  },
  {
   "cell_type": "code",
   "execution_count": 60,
   "metadata": {},
   "outputs": [
    {
     "data": {
      "text/plain": [
       "'3.35 '"
      ]
     },
     "execution_count": 60,
     "metadata": {},
     "output_type": "execute_result"
    }
   ],
   "source": [
    "page.get_textbox((358.2958984375, 129.9893798828125, 367.2110595703125, 147.74560546875))"
   ]
  }
 ],
 "metadata": {
  "kernelspec": {
   "display_name": "Python 3",
   "language": "python",
   "name": "python3"
  },
  "language_info": {
   "codemirror_mode": {
    "name": "ipython",
    "version": 3
   },
   "file_extension": ".py",
   "mimetype": "text/x-python",
   "name": "python",
   "nbconvert_exporter": "python",
   "pygments_lexer": "ipython3",
   "version": "3.12.1"
  }
 },
 "nbformat": 4,
 "nbformat_minor": 2
}
