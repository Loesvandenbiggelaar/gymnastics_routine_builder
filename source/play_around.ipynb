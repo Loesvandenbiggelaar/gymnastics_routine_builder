{
 "cells": [
  {
   "cell_type": "code",
   "execution_count": 1,
   "metadata": {},
   "outputs": [],
   "source": [
    "import re\n",
    "from functions import *\n",
    "import langdetect"
   ]
  },
  {
   "cell_type": "code",
   "execution_count": 33,
   "metadata": {},
   "outputs": [
    {
     "name": "stdout",
     "output_type": "stream",
     "text": [
      "page range: [43]\n",
      "A = 0,1\n",
      "B = 0,2\n",
      "C = 0,3\n",
      "D = 0,4\n",
      "E = 0,5\n",
      "F = 0,6 G = 0,7 H = 0,8\n",
      "Code MAG July 2022\n",
      "42\n",
      "1. De l’appui renvs. s’abaisser à l’équerre ou à \n",
      "l’équerre écartée (2 s.).\n",
      "\t\n",
      "From hdst. lower to L-sit or strad. L-sit (2 s.).\n",
      "\t\n",
      "Desde ap. inv.., bajar a ángulo o ángulo p. ab. (2 s.).\n",
      "2. Équerre, jambes levées à la vertical (2 s.).\n",
      "\t\n",
      "V-sit (2 s.).\n",
      " \n",
      "Ángulo, piernas verticales (2 s.).\n",
      "3. Équerre, jambes à l’horizontal (2 s.).\n",
      "\t\n",
      "V-sit with legs horiz. (2 s.).\n",
      " \n",
      "Ángulo piernas horizontales (2 s.).\n",
      "7. De la station jambes éc., appui renv. (2 s.).\n",
      "\t\n",
      "From straddle stand, press to hdst. (2 s.).\n",
      " \n",
      "Desde el ap. piernas ab., apoyo invertido (2 s.).\n",
      "8. S’élever corps fléchi, bras tendus ou corps \n",
      "tendu, bras fléchi à l’appui renv. (2 s.).\n",
      "\t\n",
      "Piked body, str. arm or str. body, bent arm press \n",
      "to hdst. with legs together (2 s.).\n",
      " \n",
      "Elevarse cuerpo flex., brazos ext. o cuerpo ext., \n",
      "brazos flex. al apoyo invertido (2 s.).\n",
      "9. \n",
      "l’Équerre jambes vert.(2 s.) et s’élever à l’appui \n",
      "renv. (2 s.). Aussi jambes écartées dans la phase \n",
      "finale.\n",
      "\t V-sit (2 s) and press to hdst. (2 s.). Also final \n",
      "phase with straddle.\n",
      " Ángulo piernas verticales (2 s.) y elevarse al \n",
      "apoyo invertido (2 s.). También con la fase final \n",
      "con piernas abiertas.\n",
      "13. De la position couchée faciale, avec élan \n",
      "s’élever à l’appui renversé (2 s.).\n",
      "\t\n",
      "Rock to hdst. from prone position (2 s.).\n",
      " \n",
      "Desde la posición acostada facial, con impulso \n",
      "elevarse al apoyo invertido (2 s.).\n",
      "14. Appui renv. du gr. écart. éq. écartée ou de \n",
      "l’appui facial (2 s.).\n",
      "\t\n",
      "Press from split, L-sit strad. or front sup. (2 s.).\n",
      " \n",
      "Apoyo invertido desde Spagat, o ángulo piernas \n",
      "abiertas (2 s.).\n",
      "10. l’Équerre jambes horiz.(2 s.) et s’élever à \n",
      "l’appui  renv. (2 s.). Aussi jambes écartées dans \n",
      "la phase finale.\n",
      "\t\n",
      "Manna (2 s.) and press to hdst. (2 s.). Also final \n",
      "phase with straddle.\n",
      " \n",
      "Ángulo piernas horiz. (2 s.) y elevarse al apoyo \n",
      "inv. (2 s.). También con la fase final con piernas \n",
      "abiertas.\n",
      "19. \n",
      "Appui renversé (2 s.).\n",
      "\t\n",
      "Handstand (2 s.).\n",
      " \n",
      "Apoyo invertido (2 s.).\n",
      "20. S’élever lent. ou s’abaisser ou élan à la croix \n",
      "renv. (2 s.).\n",
      "\t\n",
      "Press or lower or swing to Japanese hdst. (2 s.).\n",
      " \n",
      "Subir o bajar o impulso a cristo invertido (2 s.).\n",
      "21. Du gr. écart. s’élever lent. à la croix renversé \n",
      "(2 s.).\n",
      "\t\n",
      "From split press to Japanese handstand (2 s.).\n",
      "\t\n",
      "Desde spagat elevarse lentamente a cristo \n",
      "invertido (2 s.).\n",
      "15. \n",
      "16. Du Manna (2 s.), renversement a l’appui \n",
      "renversé (2 s.).\n",
      "\t\n",
      "From Manna (2 s.), turn over (dislocation) to \n",
      "handstand (2 s.).\n",
      " \n",
      "Desde Manna (2 s.), dislocar al apoyo invertido \n",
      "(2 s.).\n",
      "17.\n",
      "18.\n",
      "22.\n",
      "23.\n",
      "24.\n",
      "4.\n",
      "5.\n",
      "6.\n",
      "11.\n",
      "12.\n",
      "EG I:  Elements non-acrobatiques - Non-acrobatic Elements - Elementos no acrobáticos\n",
      "(Manna)\n",
      "\n"
     ]
    }
   ],
   "source": [
    "file = \"files\\\\Men\\\\en_ 2022-2024 MAG CoP.pdf\"\n",
    "# file = \"files/Men/Reglement-Bovenbouw-versie-1.1.pdf\"\n",
    "page = loadPages(file, 43)\n",
    "text= page[0].get_text()\n",
    "print(text)\n"
   ]
  },
  {
   "cell_type": "code",
   "execution_count": 7,
   "metadata": {},
   "outputs": [
    {
     "name": "stdout",
     "output_type": "stream",
     "text": [
      "Verboden voor jeugd en junioren turners \n",
      " \n",
      "Versie 1.1 (Oktober-2022 ) \n",
      " \n",
      "Bovenbouw TH 2022  \n",
      "98 \n",
      "A = 0.1 \n",
      "B = 0.2 \n",
      "C = 0.3 \n",
      "D = 0.4 \n",
      "E = 0.5 \n",
      "F = 0.6 G = 0.7 H = 0.8 \n",
      "EG IV Afsprongen \n",
      "1. Salto vw gehoekt of gestrekt, \n",
      "ook met ½ draai \n",
      "2. Salto vw gehoekt of gestrekt \n",
      "met 1/1 draai \n",
      "3. Salto vw gehoekt of gestrekt \n",
      "met 3/2 draai \n",
      "4. Salto vw gehoekt of gestrekt \n",
      "met 2/1 draai \n",
      "5.  \n",
      "6.  \n",
      "7.  \n",
      "8.  \n",
      "9. Dubbel salto vw gehurkt met \n",
      "of zonder ½ draai \n",
      "10. Dubbel salto vw met 1/1 of \n",
      "3/2 draai \n",
      "11.  \n",
      "12.  \n",
      "13.  \n",
      "14.  \n",
      "15.  \n",
      "16. Dubbel salto vw gehoekt \n",
      "met of zonder ½ draai \n",
      "17. Dubbel salto vw gehoekt \n",
      "met 1/1 of 3/2 draai \n",
      "18.  \n",
      "19.  \n",
      "20.  \n",
      "21.  \n",
      "22.  \n",
      "23.  \n",
      "24.  \n",
      "\n"
     ]
    }
   ],
   "source": [
    "\n",
    "for line in text.split(\"\\n\"):\n",
    "    print(line)"
   ]
  },
  {
   "cell_type": "code",
   "execution_count": 38,
   "metadata": {},
   "outputs": [],
   "source": [
    "y = text.replace(\"\\n\", \"|\").replace(\"\\t\", \"\").replace(\"||\", \"|\")"
   ]
  },
  {
   "cell_type": "code",
   "execution_count": 39,
   "metadata": {},
   "outputs": [
    {
     "name": "stdout",
     "output_type": "stream",
     "text": [
      "['A = 0,1|B = 0,2|C = 0,3|D = 0,4|E = 0,5|F = 0,6 G = 0,7 H = 0,8|Code MAG July 2022|42|1. De l’appui renvs. s’abaisser à l’équerre ou à |l’équerre écartée (2 s.).|From hdst. lower to L-sit or strad. L-sit (2 s.).|Desde ap. inv.., bajar a ángulo o ángulo p. ab. (2 s.).|2. Équerre, jambes levées à la vertical (2 s.).|V-sit (2 s.).| |Ángulo, piernas verticales (2 s.).|3. Équerre, jambes à l’horizontal (2 s.).|V-sit with legs horiz. (2 s.).| |Ángulo piernas horizontales (2 s.).|7. De la station jambes éc., appui renv. (2 s.).|From straddle stand, press to hdst. (2 s.).| |Desde el ap. piernas ab., apoyo invertido (2 s.).|8. S’élever corps fléchi, bras tendus ou corps |tendu, bras fléchi à l’appui renv. (2 s.).|Piked body, str. arm or str. body, bent arm press |to hdst. with legs together (2 s.).| |Elevarse cuerpo flex., brazos ext. o cuerpo ext., |brazos flex. al apoyo invertido (2 s.).|9. |l’Équerre jambes vert.(2 s.) et s’élever à l’appui |renv. (2 s.). Aussi jambes écartées dans la phase |finale.| V-sit (2 s) and press to hdst. (2 s.). Also final |phase with straddle.| Ángulo piernas verticales (2 s.) y elevarse al |apoyo invertido (2 s.). También con la fase final |con piernas abiertas.|13. De la position couchée faciale, avec élan |s’élever à l’appui renversé (2 s.).|Rock to hdst. from prone position (2 s.).| |Desde la posición acostada facial, con impulso |elevarse al apoyo invertido (2 s.).|14. Appui renv. du gr. écart. éq. écartée ou de |l’appui facial (2 s.).|Press from split, L-sit strad. or front sup. (2 s.).| |Apoyo invertido desde Spagat, o ángulo piernas |abiertas (2 s.).|10. l’Équerre jambes horiz.(2 s.) et s’élever à |l’appui  renv. (2 s.). Aussi jambes écartées dans |la phase finale.|Manna (2 s.) and press to hdst. (2 s.). Also final |phase with straddle.| |Ángulo piernas horiz. (2 s.) y elevarse al apoyo |inv. (2 s.). También con la fase final con piernas |abiertas.|19. |Appui renversé (2 s.).|Handstand (2 s.).| |Apoyo invertido (2 s.).|20. S’élever lent. ou s’abaisser ou élan à la croix |renv. (2 s.).|Press or lower or swing to Japanese hdst. (2 s.).| |Subir o bajar o impulso a cristo invertido (2 s.).|21. Du gr. écart. s’élever lent. à la croix renversé |(2 s.).|From split press to Japanese handstand (2 s.).|Desde spagat elevarse lentamente a cristo |invertido (2 s.).|15. |16. Du Manna (2 s.), renversement a l’appui |renversé (2 s.).|From Manna (2 s.), turn over (dislocation) to |handstand (2 s.).| |Desde Manna (2 s.), dislocar al apoyo invertido |(2 s.).|17.|18.|22.|23.|24.|4.|5.|6.|11.|12.|EG I:  Elements non-acrobatiques - Non-acrobatic Elements - Elementos no acrobáticos|(Manna)|']\n"
     ]
    }
   ],
   "source": [
    "print([y])"
   ]
  },
  {
   "cell_type": "code",
   "execution_count": 31,
   "metadata": {},
   "outputs": [
    {
     "name": "stdout",
     "output_type": "stream",
     "text": [
      "('1', 'De l’appui renvs. s’abaisser à l’équerre ou à |l’équerre écartée (2 s.).|From hdst. lower to L-sit or strad. L-sit (2 s.).|Desde ap. inv.., bajar a ángulo o ángulo p. ab. (2 s.).')\n",
      "('2', 'Équerre, jambes levées à la vertical (2 s.).|V-sit (2 s.).| |Ángulo, piernas verticales (2 s.).')\n",
      "('3', 'Équerre, jambes à l’horizontal (2 s.).|V-sit with legs horiz. (2 s.).| |Ángulo piernas horizontales (2 s.).')\n",
      "('7', 'De la station jambes éc., appui renv. (2 s.).|From straddle stand, press to hdst. (2 s.).| |Desde el ap. piernas ab., apoyo invertido (2 s.).')\n",
      "('8', 'S’élever corps fléchi, bras tendus ou corps |tendu, bras fléchi à l’appui renv. (2 s.).|Piked body, str. arm or str. body, bent arm press |to hdst. with legs together (2 s.).| |Elevarse cuerpo flex., brazos ext. o cuerpo ext., |brazos flex. al apoyo invertido (2 s.).')\n",
      "('9', '|l’Équerre jambes vert.(2 s.) et s’élever à l’appui |renv. (2 s.). Aussi jambes écartées dans la phase |finale.| V-sit (2 s) and press to hdst. (2 s.). Also final |phase with straddle.| Ángulo piernas verticales (2 s.) y elevarse al |apoyo invertido (2 s.). También con la fase final |con piernas abiertas.')\n",
      "('13', 'De la position couchée faciale, avec élan |s’élever à l’appui renversé (2 s.).|Rock to hdst. from prone position (2 s.).| |Desde la posición acostada facial, con impulso |elevarse al apoyo invertido (2 s.).')\n",
      "('14', 'Appui renv. du gr. écart. éq. écartée ou de |l’appui facial (2 s.).|Press from split, L-sit strad. or front sup. (2 s.).| |Apoyo invertido desde Spagat, o ángulo piernas |abiertas (2 s.).')\n",
      "('10', 'l’Équerre jambes horiz.(2 s.) et s’élever à |l’appui  renv. (2 s.). Aussi jambes écartées dans |la phase finale.|Manna (2 s.) and press to hdst. (2 s.). Also final |phase with straddle.| |Ángulo piernas horiz. (2 s.) y elevarse al apoyo |inv. (2 s.). También con la fase final con piernas |abiertas.')\n",
      "('19', '|Appui renversé (2 s.).|Handstand (2 s.).| |Apoyo invertido (2 s.).')\n",
      "('20', 'S’élever lent. ou s’abaisser ou élan à la croix |renv. (2 s.).|Press or lower or swing to Japanese hdst. (2 s.).| |Subir o bajar o impulso a cristo invertido (2 s.).')\n",
      "('21', 'Du gr. écart. s’élever lent. à la croix renversé |(2 s.).|From split press to Japanese handstand (2 s.).|Desde spagat elevarse lentamente a cristo |invertido (2 s.).')\n",
      "('15', '')\n",
      "('16', 'Du Manna (2 s.), renversement a l’appui |renversé (2 s.).|From Manna (2 s.), turn over (dislocation) to |handstand (2 s.).| |Desde Manna (2 s.), dislocar al apoyo invertido |(2 s.).')\n"
     ]
    }
   ],
   "source": [
    "\n",
    "pattern = r\"(\\d+)\\.\\s+(.*?)\\s*(?=\\|\\d+\\.|\\Z)\"\n",
    "for res in re.findall(pattern, text.replace(\"\\t\", \"\").replace(\"\\n\", \"|\").replace(\"||\", \"|\")):\n",
    "    print(res)\n",
    "    # if res[0] == \"110\":\n",
    "    #     break"
   ]
  },
  {
   "cell_type": "code",
   "execution_count": 59,
   "metadata": {},
   "outputs": [
    {
     "name": "stdout",
     "output_type": "stream",
     "text": [
      "t Rondade, ½ t. et renversement av. et double |salto avant groupé.\t\n",
      "t Round off, ½ t. a. hdspr. fwd. and double salto |fwd. tucked.\n",
      "t Rondada, ½ g. paloma doble mortal ad. agr.\n"
     ]
    }
   ],
   "source": [
    "for x in re.split(r\"\\|(?=[A-Z])\", s):\n",
    "    print(\"t\", x)"
   ]
  },
  {
   "cell_type": "code",
   "execution_count": 41,
   "metadata": {},
   "outputs": [
    {
     "name": "stdout",
     "output_type": "stream",
     "text": [
      "['De l’appui renvs. s’abaisser à l’équerre ou à |l’équerre écartée (2 s.).', 'From hdst. lower to L-sit or strad. L-sit (2 s.).', 'Desde ap. inv.., bajar a ángulo o ángulo p. ab. (2 s.).']\n"
     ]
    }
   ],
   "source": [
    "print(re.split(r\"\\|(?=[A-Z|\\s|\\d])\", 'De l’appui renvs. s’abaisser à l’équerre ou à |l’équerre écartée (2 s.).|From hdst. lower to L-sit or strad. L-sit (2 s.).|Desde ap. inv.., bajar a ángulo o ángulo p. ab. (2 s.).'))"
   ]
  },
  {
   "cell_type": "code",
   "execution_count": 14,
   "metadata": {},
   "outputs": [
    {
     "name": "stdout",
     "output_type": "stream",
     "text": [
      "Appui   facial  horizontal.     (2      s.). [ro:0.9999938676465245]\n",
      " Support scale (2 s.). [fr:0.8571386350232229, it:0.1428585880455012]\n",
      "     Apoyo  facial  horizontal      (2      s.). [es:0.9999951456983701]\n"
     ]
    }
   ],
   "source": [
    "for r in res.split(\"|\"):\n",
    "    print(r, langdetect.detect_langs(r) )\n",
    "\n"
   ]
  },
  {
   "cell_type": "code",
   "execution_count": 34,
   "metadata": {},
   "outputs": [
    {
     "name": "stdout",
     "output_type": "stream",
     "text": [
      "Loading config file\n"
     ]
    },
    {
     "data": {
      "text/plain": [
       "['handstandoverslag / yamashita',\n",
       " 'tsukahara',\n",
       " 'arabier flik-flak / yurchenko',\n",
       " 'streksprong']"
      ]
     },
     "execution_count": 34,
     "metadata": {},
     "output_type": "execute_result"
    }
   ],
   "source": [
    "loadConfig(\"element_grouping.yaml\")[\"apparatuses\"][\"men\"][\"vault\"][\"type\"]"
   ]
  },
  {
   "cell_type": "code",
   "execution_count": 2,
   "metadata": {},
   "outputs": [
    {
     "name": "stdout",
     "output_type": "stream",
     "text": [
      "Hecht strad., hecht or hecht w. ½ t.\n"
     ]
    }
   ],
   "source": [
    "print(\" Hecht strad., hecht or hecht w. \\u00bd t.\".strip())\n"
   ]
  }
 ],
 "metadata": {
  "kernelspec": {
   "display_name": "Python 3",
   "language": "python",
   "name": "python3"
  },
  "language_info": {
   "codemirror_mode": {
    "name": "ipython",
    "version": 3
   },
   "file_extension": ".py",
   "mimetype": "text/x-python",
   "name": "python",
   "nbconvert_exporter": "python",
   "pygments_lexer": "ipython3",
   "version": "3.12.2"
  }
 },
 "nbformat": 4,
 "nbformat_minor": 2
}
