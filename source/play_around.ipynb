{
 "cells": [
  {
   "cell_type": "code",
   "execution_count": 9,
   "metadata": {},
   "outputs": [],
   "source": [
    "import re\n",
    "from functions import *\n"
   ]
  },
  {
   "cell_type": "code",
   "execution_count": 8,
   "metadata": {},
   "outputs": [
    {
     "name": "stdout",
     "output_type": "stream",
     "text": [
      "page range: [161]\n",
      "A = 0,1\n",
      "B = 0,2\n",
      "C = 0,3\n",
      "D = 0,4\n",
      "E = 0,5\n",
      "F = 0,6 G = 0,7 H = 0,8\n",
      "Code MAG July 2022\n",
      "155\n",
      "50. Double salto arrière gr. par-dessus de la barre.\n",
      "\t\n",
      "Double salto bwd. t. over the bar.\n",
      " \t\n",
      "Doble mortal atrás agr. por encima de la barra.\n",
      "51. Double salto arrière gr. ou carpé avec 1/1 t. \n",
      "par- dessus la barre.\n",
      "\t\n",
      "Doble salto bwd. t. with 1/1 t. over the bar.\n",
      " \n",
      "Doble mortal atrás agr. con 1/1 g. por encima \n",
      "de la barra.\n",
      "58. \n",
      "Double salto arrière tendu avec 1/1 t. par-dessus \n",
      "la barre.\n",
      "\t\n",
      "Double salto bwd. str. w. 1/1 t. over the bar.\n",
      " \t\n",
      "Doble mortal ext. con 1/1 g. por encima de la b.\n",
      "(Hayden)\n",
      "57. Double salto arrière tendu par-dessus la barre.\n",
      "\t\n",
      "Double salto bwd. str over the bar. \n",
      "  \n",
      "Doble mortal ext. por encima de la barra.\n",
      "52. Double salto arrière gr. avec 2/1 t. par- dessus \n",
      "la barre.\n",
      "\t\n",
      "Double salto bwd. t. with 2/1 t. over the bar\n",
      "  \n",
      "Doble mortal atrás agr. con 2/1 g. por encima \n",
      "de la barra.\n",
      "53. \n",
      "60. \n",
      "Triple salto arrière gr. avec 1/1 t.\n",
      "\t\n",
      "Triple salto bwd. t. with 1/1 t.\n",
      " \n",
      "Triple mortal agrupado con 1/1 g.\n",
      "(Belle)\n",
      "61. Poisson éc., ou poisson ou poisson avec ½ t.\n",
      "\t\n",
      "Hecht strad., hecht or hecht w. ½ t.\n",
      " \n",
      "Tigre p. abiertas, tigre o tigre con ½ g.\n",
      "62. Poisson avec 1/1 ou 3/2 t.\n",
      "\t\n",
      "Hecht w. 1/1 or 3/2 t.\n",
      " \n",
      "Tigre con 1/1 o 3/2 g.\n",
      "64. Poisson avec 2/1 t.\n",
      "\t\n",
      "Hecht w. 2/1 t.\n",
      " \n",
      "Tigre con 2/1 g.\n",
      "EG IV:  Sorties - Dismounts - Salidas\n",
      "72.\n",
      "71.\n",
      "66.\n",
      "65.\n",
      "70.\n",
      "69.\n",
      "68.\n",
      "67.\n",
      "56.\n",
      "55.\n",
      "59.\n",
      "54. Triple salto arrière carpé.\n",
      "\t\n",
      "Triple salto bwd. p.\n",
      " \n",
      "Triple mortal atrás en carpa.\n",
      "63.\n",
      "49.\n",
      "(Fardan)\n",
      "G\n",
      "G\n",
      "\n"
     ]
    }
   ],
   "source": [
    "file = \"files\\\\Men\\\\en_ 2022-2024 MAG CoP.pdf\"\n",
    "# file = \"files/Men/Reglement-Bovenbouw-versie-1.1.pdf\"\n",
    "page = loadPages(file, 161)\n",
    "text= page[0].get_text()\n",
    "print(text)\n"
   ]
  },
  {
   "cell_type": "code",
   "execution_count": 7,
   "metadata": {},
   "outputs": [
    {
     "name": "stdout",
     "output_type": "stream",
     "text": [
      "Verboden voor jeugd en junioren turners \n",
      " \n",
      "Versie 1.1 (Oktober-2022 ) \n",
      " \n",
      "Bovenbouw TH 2022  \n",
      "98 \n",
      "A = 0.1 \n",
      "B = 0.2 \n",
      "C = 0.3 \n",
      "D = 0.4 \n",
      "E = 0.5 \n",
      "F = 0.6 G = 0.7 H = 0.8 \n",
      "EG IV Afsprongen \n",
      "1. Salto vw gehoekt of gestrekt, \n",
      "ook met ½ draai \n",
      "2. Salto vw gehoekt of gestrekt \n",
      "met 1/1 draai \n",
      "3. Salto vw gehoekt of gestrekt \n",
      "met 3/2 draai \n",
      "4. Salto vw gehoekt of gestrekt \n",
      "met 2/1 draai \n",
      "5.  \n",
      "6.  \n",
      "7.  \n",
      "8.  \n",
      "9. Dubbel salto vw gehurkt met \n",
      "of zonder ½ draai \n",
      "10. Dubbel salto vw met 1/1 of \n",
      "3/2 draai \n",
      "11.  \n",
      "12.  \n",
      "13.  \n",
      "14.  \n",
      "15.  \n",
      "16. Dubbel salto vw gehoekt \n",
      "met of zonder ½ draai \n",
      "17. Dubbel salto vw gehoekt \n",
      "met 1/1 of 3/2 draai \n",
      "18.  \n",
      "19.  \n",
      "20.  \n",
      "21.  \n",
      "22.  \n",
      "23.  \n",
      "24.  \n",
      "\n"
     ]
    }
   ],
   "source": [
    "\n",
    "for line in text.split(\"\\n\"):\n",
    "    print(line)"
   ]
  },
  {
   "cell_type": "code",
   "execution_count": 38,
   "metadata": {},
   "outputs": [],
   "source": [
    "y = text.replace(\"\\n\", \"|\").replace(\"\\t\", \"\").replace(\"||\", \"|\")"
   ]
  },
  {
   "cell_type": "code",
   "execution_count": 39,
   "metadata": {},
   "outputs": [
    {
     "name": "stdout",
     "output_type": "stream",
     "text": [
      "['A = 0,1|B = 0,2|C = 0,3|D = 0,4|E = 0,5|F = 0,6 G = 0,7 H = 0,8|Code MAG July 2022|42|1. De l’appui renvs. s’abaisser à l’équerre ou à |l’équerre écartée (2 s.).|From hdst. lower to L-sit or strad. L-sit (2 s.).|Desde ap. inv.., bajar a ángulo o ángulo p. ab. (2 s.).|2. Équerre, jambes levées à la vertical (2 s.).|V-sit (2 s.).| |Ángulo, piernas verticales (2 s.).|3. Équerre, jambes à l’horizontal (2 s.).|V-sit with legs horiz. (2 s.).| |Ángulo piernas horizontales (2 s.).|7. De la station jambes éc., appui renv. (2 s.).|From straddle stand, press to hdst. (2 s.).| |Desde el ap. piernas ab., apoyo invertido (2 s.).|8. S’élever corps fléchi, bras tendus ou corps |tendu, bras fléchi à l’appui renv. (2 s.).|Piked body, str. arm or str. body, bent arm press |to hdst. with legs together (2 s.).| |Elevarse cuerpo flex., brazos ext. o cuerpo ext., |brazos flex. al apoyo invertido (2 s.).|9. |l’Équerre jambes vert.(2 s.) et s’élever à l’appui |renv. (2 s.). Aussi jambes écartées dans la phase |finale.| V-sit (2 s) and press to hdst. (2 s.). Also final |phase with straddle.| Ángulo piernas verticales (2 s.) y elevarse al |apoyo invertido (2 s.). También con la fase final |con piernas abiertas.|13. De la position couchée faciale, avec élan |s’élever à l’appui renversé (2 s.).|Rock to hdst. from prone position (2 s.).| |Desde la posición acostada facial, con impulso |elevarse al apoyo invertido (2 s.).|14. Appui renv. du gr. écart. éq. écartée ou de |l’appui facial (2 s.).|Press from split, L-sit strad. or front sup. (2 s.).| |Apoyo invertido desde Spagat, o ángulo piernas |abiertas (2 s.).|10. l’Équerre jambes horiz.(2 s.) et s’élever à |l’appui  renv. (2 s.). Aussi jambes écartées dans |la phase finale.|Manna (2 s.) and press to hdst. (2 s.). Also final |phase with straddle.| |Ángulo piernas horiz. (2 s.) y elevarse al apoyo |inv. (2 s.). También con la fase final con piernas |abiertas.|19. |Appui renversé (2 s.).|Handstand (2 s.).| |Apoyo invertido (2 s.).|20. S’élever lent. ou s’abaisser ou élan à la croix |renv. (2 s.).|Press or lower or swing to Japanese hdst. (2 s.).| |Subir o bajar o impulso a cristo invertido (2 s.).|21. Du gr. écart. s’élever lent. à la croix renversé |(2 s.).|From split press to Japanese handstand (2 s.).|Desde spagat elevarse lentamente a cristo |invertido (2 s.).|15. |16. Du Manna (2 s.), renversement a l’appui |renversé (2 s.).|From Manna (2 s.), turn over (dislocation) to |handstand (2 s.).| |Desde Manna (2 s.), dislocar al apoyo invertido |(2 s.).|17.|18.|22.|23.|24.|4.|5.|6.|11.|12.|EG I:  Elements non-acrobatiques - Non-acrobatic Elements - Elementos no acrobáticos|(Manna)|']\n"
     ]
    }
   ],
   "source": [
    "print([y])"
   ]
  },
  {
   "cell_type": "code",
   "execution_count": 7,
   "metadata": {},
   "outputs": [
    {
     "name": "stdout",
     "output_type": "stream",
     "text": [
      "('1', 'De l’appui renvs. s’abaisser à l’équerre ou à |l’équerre écartée (2 s.).|From hdst. lower to L-sit or strad. L-sit (2 s.).|Desde ap. inv.., bajar a ángulo o ángulo p. ab. (2 s.).')\n",
      "('2', 'Équerre, jambes levées à la vertical (2 s.).|V-sit (2 s.).| |Ángulo, piernas verticales (2 s.).')\n",
      "('3', 'Équerre, jambes à l’horizontal (2 s.).|V-sit with legs horiz. (2 s.).| |Ángulo piernas horizontales (2 s.).')\n",
      "('7', 'De la station jambes éc., appui renv. (2 s.).|From straddle stand, press to hdst. (2 s.).| |Desde el ap. piernas ab., apoyo invertido (2 s.).')\n",
      "('8', 'S’élever corps fléchi, bras tendus ou corps |tendu, bras fléchi à l’appui renv. (2 s.).|Piked body, str. arm or str. body, bent arm press |to hdst. with legs together (2 s.).| |Elevarse cuerpo flex., brazos ext. o cuerpo ext., |brazos flex. al apoyo invertido (2 s.).')\n",
      "('9', '|l’Équerre jambes vert.(2 s.) et s’élever à l’appui |renv. (2 s.). Aussi jambes écartées dans la phase |finale.| V-sit (2 s) and press to hdst. (2 s.). Also final |phase with straddle.| Ángulo piernas verticales (2 s.) y elevarse al |apoyo invertido (2 s.). También con la fase final |con piernas abiertas.')\n",
      "('13', 'De la position couchée faciale, avec élan |s’élever à l’appui renversé (2 s.).|Rock to hdst. from prone position (2 s.).| |Desde la posición acostada facial, con impulso |elevarse al apoyo invertido (2 s.).')\n",
      "('14', 'Appui renv. du gr. écart. éq. écartée ou de |l’appui facial (2 s.).|Press from split, L-sit strad. or front sup. (2 s.).| |Apoyo invertido desde Spagat, o ángulo piernas |abiertas (2 s.).')\n",
      "('10', 'l’Équerre jambes horiz.(2 s.) et s’élever à |l’appui  renv. (2 s.). Aussi jambes écartées dans |la phase finale.|Manna (2 s.) and press to hdst. (2 s.). Also final |phase with straddle.| |Ángulo piernas horiz. (2 s.) y elevarse al apoyo |inv. (2 s.). También con la fase final con piernas |abiertas.')\n",
      "('19', '|Appui renversé (2 s.).|Handstand (2 s.).| |Apoyo invertido (2 s.).')\n",
      "('20', 'S’élever lent. ou s’abaisser ou élan à la croix |renv. (2 s.).|Press or lower or swing to Japanese hdst. (2 s.).| |Subir o bajar o impulso a cristo invertido (2 s.).')\n",
      "('21', 'Du gr. écart. s’élever lent. à la croix renversé |(2 s.).|From split press to Japanese handstand (2 s.).|Desde spagat elevarse lentamente a cristo |invertido (2 s.).')\n",
      "('15', '')\n",
      "('16', 'Du Manna (2 s.), renversement a l’appui |renversé (2 s.).|From Manna (2 s.), turn over (dislocation) to |handstand (2 s.).| |Desde Manna (2 s.), dislocar al apoyo invertido |(2 s.).')\n"
     ]
    }
   ],
   "source": [
    "\n",
    "pattern = r\"(\\d+)\\.\\s+(.*?)\\s*(?=\\|\\d+\\.|\\Z)\"\n",
    "for res in re.findall(pattern, text.replace(\"\\t\", \"\").replace(\"\\n\", \"|\").replace(\"||\", \"|\")):\n",
    "    print(res)\n",
    "    # if res[0] == \"110\":\n",
    "    #     break"
   ]
  },
  {
   "cell_type": "code",
   "execution_count": 59,
   "metadata": {},
   "outputs": [
    {
     "name": "stdout",
     "output_type": "stream",
     "text": [
      "t Rondade, ½ t. et renversement av. et double |salto avant groupé.\t\n",
      "t Round off, ½ t. a. hdspr. fwd. and double salto |fwd. tucked.\n",
      "t Rondada, ½ g. paloma doble mortal ad. agr.\n"
     ]
    }
   ],
   "source": [
    "for x in re.split(r\"\\|(?=[A-Z])\", s):\n",
    "    print(\"t\", x)"
   ]
  },
  {
   "cell_type": "code",
   "execution_count": 38,
   "metadata": {},
   "outputs": [
    {
     "name": "stdout",
     "output_type": "stream",
     "text": [
      "['_Renvs._ av._et_salto_av._gr._avec_1/1_t._(Cuervo_|gr._a._½_t.).', ' Hdspr. fwd. and salto fwd. t. w. 1/1 t. (Cuervo t. |w. ½ t.).', '_ Paloma_ mortal_ad._agr._con_1/1_g._(Cuervo_agr.__|con._½_g.).']\n"
     ]
    }
   ],
   "source": [
    "print(re.split(r\"\\|(?=[A-Z|\\s|\\d|_])\", '_Renvs._ av._et_salto_av._gr._avec_1/1_t._(Cuervo_|gr._a._½_t.).| Hdspr. fwd. and salto fwd. t. w. 1/1 t. (Cuervo t. |w. ½ t.).|_ Paloma_ mortal_ad._agr._con_1/1_g._(Cuervo_agr.__|con._½_g.).'))"
   ]
  },
  {
   "cell_type": "code",
   "execution_count": 14,
   "metadata": {},
   "outputs": [
    {
     "name": "stdout",
     "output_type": "stream",
     "text": [
      "Appui   facial  horizontal.     (2      s.). [ro:0.9999938676465245]\n",
      " Support scale (2 s.). [fr:0.8571386350232229, it:0.1428585880455012]\n",
      "     Apoyo  facial  horizontal      (2      s.). [es:0.9999951456983701]\n"
     ]
    }
   ],
   "source": [
    "for r in res.split(\"|\"):\n",
    "    print(r, langdetect.detect_langs(r) )\n",
    "\n"
   ]
  },
  {
   "cell_type": "code",
   "execution_count": 34,
   "metadata": {},
   "outputs": [
    {
     "name": "stdout",
     "output_type": "stream",
     "text": [
      "Loading config file\n"
     ]
    },
    {
     "data": {
      "text/plain": [
       "['handstandoverslag / yamashita',\n",
       " 'tsukahara',\n",
       " 'arabier flik-flak / yurchenko',\n",
       " 'streksprong']"
      ]
     },
     "execution_count": 34,
     "metadata": {},
     "output_type": "execute_result"
    }
   ],
   "source": [
    "loadConfig(\"element_grouping.yaml\")[\"apparatuses\"][\"men\"][\"vault\"][\"type\"]"
   ]
  },
  {
   "cell_type": "code",
   "execution_count": 2,
   "metadata": {},
   "outputs": [
    {
     "name": "stdout",
     "output_type": "stream",
     "text": [
      "Hecht strad., hecht or hecht w. ½ t.\n"
     ]
    }
   ],
   "source": [
    "print(\" Hecht strad., hecht or hecht w. \\u00bd t.\".strip())\n"
   ]
  },
  {
   "cell_type": "code",
   "execution_count": 39,
   "metadata": {},
   "outputs": [
    {
     "name": "stdout",
     "output_type": "stream",
     "text": [
      "Loading config file\n",
      "['3.309', '4.415', '4.449', '4.455', '4.456', '4.457', '4.458', '4.459', '4.460', '4.461', '4.462', '4.467', '4.468', '4.469', '4.470', '4.471', '4.472']\n"
     ]
    }
   ],
   "source": [
    "vault = loadJson(\"../data/elements/men/en_elements.json\")\n",
    "vault_nrs = [x[\"number\"] for x in vault[\"vault\"]]\n",
    "values = loadConfig(\"files/Men/vault_values.yaml\")\n",
    "missing = set(values.keys()) - set(vault_nrs)\n",
    "print(sorted(missing))\n",
    "\n"
   ]
  }
 ],
 "metadata": {
  "kernelspec": {
   "display_name": "Python 3",
   "language": "python",
   "name": "python3"
  },
  "language_info": {
   "codemirror_mode": {
    "name": "ipython",
    "version": 3
   },
   "file_extension": ".py",
   "mimetype": "text/x-python",
   "name": "python",
   "nbconvert_exporter": "python",
   "pygments_lexer": "ipython3",
   "version": "3.12.2"
  }
 },
 "nbformat": 4,
 "nbformat_minor": 2
}
