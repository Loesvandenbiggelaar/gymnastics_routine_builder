{
 "cells": [
  {
   "cell_type": "code",
   "execution_count": 1,
   "metadata": {},
   "outputs": [],
   "source": [
    "import re\n",
    "from functions import *\n",
    "import langdetect"
   ]
  },
  {
   "cell_type": "code",
   "execution_count": 41,
   "metadata": {},
   "outputs": [
    {
     "name": "stdout",
     "output_type": "stream",
     "text": [
      "page range: [115]\n"
     ]
    },
    {
     "data": {
      "text/plain": [
       "'Code MAG July 2022\\n111\\n466.\\n465.\\nEG IV:  Sauts à partir de rondade - Round off entry vaults.- Saltos con entrada de rondada\\n464.\\n463.\\n467. \\nRondade, saut arrière avec 1/1 t. et renverse-\\nment arrière et salto arrière tendu.\\t\\nScherbo entry to salto bwd. straight.\\t\\nEntrada de Scherbo mortal at ext.\\n3.8\\n(Scherbo)\\n468. Scherbo avec ½ t.\\t\\nScherbo with ½ t.\\nScherbo con ½ g.\\n4.2\\n470. Scherbo avec 3/2 t.\\t\\nScherbo with 3/2 t.\\nScherbo con 3/2 g.\\n5.0\\n469. \\nScherbo avec 1/1 t.\\t\\nScherbo with 1/1 t.\\nScherbo con 1/1 g.\\n4.6\\n472. Scherbo avec 5/2 t.\\t\\nScherbo with 5/2 t.\\nScherbo con 5/2 g.\\n5.8\\n471. \\nScherbo avec 2/1 t.\\t\\nScherbo with 2/1 t.\\nScherbo con 2/1 g.\\n5.4\\n(Shirai 3)\\n461. \\nRondade, saut arrière avec 1/1 t. et renverse-\\nment arrière et salto arrière groupé avec 1/1 t.\\t\\nScherbo entry to salto bwd. tucked with 1/1\\nturn.\\t\\nEntrada de Scherbo y mortal atrás agrupado\\ncon 1/1 g.\\n3.4\\n462. \\nRondade, saut arrière avec 1/1 t. et renverse-\\nment arrière et salto arrière groupé avec 3/2 t.\\t\\nScherbo entry to salto bwd. tucked with 3/2\\nturn.\\t\\nEntrada de Scherbo y mortal atrás agrupado\\ncon 3/2 g.\\n3.8\\n457. \\nRondade, saut arrière avec 1/1 t. et renverse-\\nment arrière avec 1/1 tour.\\t\\nScherbo entry to back handspring with 1/1\\nturn.\\t\\nEntrada de Scherbo e inversión atrás con 1/1 g.\\n2.6\\n460. Rondade, saut arrière avec 1/1 t. et renverse-\\nment arrière et salto arrière groupé avec ½ t.\\t\\nScherbo entry to salto bwd. tucked with ½ turn.\\t\\nEntrada de Scherbo y mortal atrás agrupado\\ncon ½ g.\\n3.0\\n3.0\\n459. Rondade, saut arrière avec 1/1 t. et renverse-\\nment arrière et salto arrière carpé.\\t\\nScherbo entry to salto bwd. piked.\\t\\nEntrada de Scherbo y mortal atrás en carpa.\\n458. Rondade, saut arrière avec 1/1 t. et renverse-\\nment arrière et salto arrière groupé.\\t\\nScherbo entry to salto bwd. tucked.\\t\\nEntrada de Scherbo y mortal atrás agr.\\n2.8\\n455. Rondade, saut arrière avec 1/1 t. et renverse-\\nment arrière.\\t\\nScherbo entry to back handspring.\\nEntrada de Scherbo e inversión atrás.\\n2.2\\n456. \\nRondade, saut arrière avec 1/1 t. et renverse-\\nment arrière avec ½ tour.\\t\\nScherbo entry to back handspring with ½\\nturn.\\t\\t\\nEntrada de Scherbo e inversión atrás con ½ g.\\n2.4\\n449. Rondade, ½ t. et renversement av. et double \\nsalto avant groupé.\\t\\nRound off, ½ t. a. hdspr. fwd. and double salto \\nfwd. tucked.\\nRondada, ½ g. paloma doble mortal ad. agr.\\n5.4\\n450.\\n451.\\n452.\\n453.\\n454.\\n'"
      ]
     },
     "execution_count": 41,
     "metadata": {},
     "output_type": "execute_result"
    }
   ],
   "source": [
    "file = \"files\\\\Men\\\\en_ 2022-2024 MAG CoP.pdf\"\n",
    "# file = \"files/Men/Reglement-Bovenbouw-versie-1.1.pdf\"\n",
    "page = loadPages(file, 115)\n",
    "text= page[0].get_text()\n",
    "text\n"
   ]
  },
  {
   "cell_type": "code",
   "execution_count": 12,
   "metadata": {},
   "outputs": [
    {
     "name": "stdout",
     "output_type": "stream",
     "text": [
      "Code MAG July 2022\n",
      "107\n",
      "5.6\n",
      "EG II:  Renversements avant avec ou sans tours simples et tout double salto avant.- Handspring salto vaults with or without simple twists, and all double salto fwd.- Palomas con o sin giros y dobles mortales ad.\n",
      "5.2\n",
      "248. \n",
      "247.\n",
      "243\n",
      "(Roche)\n",
      "(Dragulescu)\n",
      "225. \n",
      "Renversement avant et double salto avant gr.\n",
      "\t\n",
      "Handspring fwd. and dbl. salto fwd. t.\n",
      " \n",
      "Paloma doble mortal agrupado.\n",
      "226. \n",
      "Roche avec ½ tour.\n",
      "\t\n",
      "Roche with ½ turn.\n",
      " \n",
      "Roche con ½ giro.\n",
      "5.6\n",
      "5.6\n",
      "228. Renv. av. et salto av. gr. avec ½ t. et salto arr. gr.\n",
      "\t\n",
      "Handspring fwd. and salto fwd. t. w. ½ t. and \n",
      "salto bwd. t.\n",
      " \n",
      "Paloma y mortal ad con ½ g. y mortal at. agr.\n",
      "6.0\n",
      "(Zimmerman)\n",
      "(Blanik)\n",
      "(RI Se Gwang 2)\n",
      "231. Renversement av. et double salto av. carpé.\n",
      "\t\n",
      "Handspring fwd. and dbl. salto fwd. piked.\n",
      " \n",
      "Paloma doble mortal ad. en carpa.\n",
      "232. Dragulescu carpé.\n",
      "\t\n",
      "Dragulescu piked.\n",
      " \n",
      "Dragulescu en carpa.\n",
      "235. \n",
      "236. \n",
      "237. \n",
      "233. \n",
      "238. \n",
      "227. \n",
      "234. \n",
      "244.\n",
      "229. \n",
      "230. \n",
      "239. \n",
      "240. \n",
      "245. \n",
      "246. \n",
      "241. \n",
      "242. \n",
      "\n"
     ]
    }
   ],
   "source": [
    "\n",
    "for line in text.split(\"\\n\"):\n",
    "    print(line)"
   ]
  },
  {
   "cell_type": "code",
   "execution_count": 37,
   "metadata": {},
   "outputs": [],
   "source": [
    "y = text.replace(\"\\n\", \"|\")"
   ]
  },
  {
   "cell_type": "code",
   "execution_count": 38,
   "metadata": {},
   "outputs": [
    {
     "data": {
      "text/plain": [
       "['Code MAG July 2022|111|466.|465.|EG IV:  Sauts à partir de rondade - Round off entry vaults.- Saltos con entrada de rondada|464.|463.|467. |Rondade, saut arrière avec 1/1 t. et renverse-|ment arrière et salto arrière tendu.\\t|Scherbo entry to salto bwd. straight.\\t|Entrada de Scherbo mortal at ext.|3.8|(Scherbo)|468. Scherbo avec ½ t.\\t|Scherbo with ½ t.|Scherbo con ½ g.|4.2|470. Scherbo avec 3/2 t.\\t|Scherbo with 3/2 t.|Scherbo con 3/2 g.|5.0|469. |Scherbo avec 1/1 t.\\t|Scherbo with 1/1 t.|Scherbo con 1/1 g.|4.6|472. Scherbo avec 5/2 t.\\t|Scherbo with 5/2 t.|Scherbo con 5/2 g.|5.8|471. |Scherbo avec 2/1 t.\\t|Scherbo with 2/1 t.|Scherbo con 2/1 g.|5.4|(Shirai 3)|461. |Rondade, saut arrière avec 1/1 t. et renverse-|ment arrière et salto arrière groupé avec 1/1 t.\\t|Scherbo entry to salto bwd. tucked with 1/1|turn.\\t|Entrada de Scherbo y mortal atrás agrupado|con 1/1 g.|3.4|462. |Rondade, saut arrière avec 1/1 t. et renverse-|ment arrière et salto arrière groupé avec 3/2 t.\\t|Scherbo entry to salto bwd. tucked with 3/2|turn.\\t|Entrada de Scherbo y mortal atrás agrupado|con 3/2 g.|3.8|457. |Rondade, saut arrière avec 1/1 t. et renverse-|ment arrière avec 1/1 tour.\\t|Scherbo entry to back handspring with 1/1|turn.\\t|Entrada de Scherbo e inversión atrás con 1/1 g.|2.6|460. Rondade, saut arrière avec 1/1 t. et renverse-|ment arrière et salto arrière groupé avec ½ t.\\t|Scherbo entry to salto bwd. tucked with ½ turn.\\t|Entrada de Scherbo y mortal atrás agrupado|con ½ g.|3.0|3.0|459. Rondade, saut arrière avec 1/1 t. et renverse-|ment arrière et salto arrière carpé.\\t|Scherbo entry to salto bwd. piked.\\t|Entrada de Scherbo y mortal atrás en carpa.|458. Rondade, saut arrière avec 1/1 t. et renverse-|ment arrière et salto arrière groupé.\\t|Scherbo entry to salto bwd. tucked.\\t|Entrada de Scherbo y mortal atrás agr.|2.8|455. Rondade, saut arrière avec 1/1 t. et renverse-|ment arrière.\\t|Scherbo entry to back handspring.|Entrada de Scherbo e inversión atrás.|2.2|456. |Rondade, saut arrière avec 1/1 t. et renverse-|ment arrière avec ½ tour.\\t|Scherbo entry to back handspring with ½|turn.\\t\\t|Entrada de Scherbo e inversión atrás con ½ g.|2.4|449. Rondade, ½ t. et renversement av. et double |salto avant groupé.\\t|Round off, ½ t. a. hdspr. fwd. and double salto |fwd. tucked.|Rondada, ½ g. paloma doble mortal ad. agr.|5.4|450.|451.|452.|453.|454.|']"
      ]
     },
     "execution_count": 38,
     "metadata": {},
     "output_type": "execute_result"
    }
   ],
   "source": [
    "[y]"
   ]
  },
  {
   "cell_type": "code",
   "execution_count": 42,
   "metadata": {},
   "outputs": [
    {
     "name": "stdout",
     "output_type": "stream",
     "text": [
      "('467', '|Rondade, saut arrière avec 1/1 t. et renverse-|ment arrière et salto arrière tendu.\\t|Scherbo entry to salto bwd. straight.\\t|Entrada de Scherbo mortal at ext.')\n",
      "('468', 'Scherbo avec ½ t.\\t|Scherbo with ½ t.|Scherbo con ½ g.')\n",
      "('470', 'Scherbo avec 3/2 t.\\t|Scherbo with 3/2 t.|Scherbo con 3/2 g.')\n",
      "('469', '|Scherbo avec 1/1 t.\\t|Scherbo with 1/1 t.|Scherbo con 1/1 g.')\n",
      "('472', 'Scherbo avec 5/2 t.\\t|Scherbo with 5/2 t.|Scherbo con 5/2 g.')\n",
      "('471', '|Scherbo avec 2/1 t.\\t|Scherbo with 2/1 t.|Scherbo con 2/1 g.')\n",
      "('461', '|Rondade, saut arrière avec 1/1 t. et renverse-|ment arrière et salto arrière groupé avec 1/1 t.\\t|Scherbo entry to salto bwd. tucked with 1/1|turn.\\t|Entrada de Scherbo y mortal atrás agrupado|con 1/1 g.')\n",
      "('462', '|Rondade, saut arrière avec 1/1 t. et renverse-|ment arrière et salto arrière groupé avec 3/2 t.\\t|Scherbo entry to salto bwd. tucked with 3/2|turn.\\t|Entrada de Scherbo y mortal atrás agrupado|con 3/2 g.')\n",
      "('457', '|Rondade, saut arrière avec 1/1 t. et renverse-|ment arrière avec 1/1 tour.\\t|Scherbo entry to back handspring with 1/1|turn.\\t|Entrada de Scherbo e inversión atrás con 1/1 g.')\n",
      "('460', 'Rondade, saut arrière avec 1/1 t. et renverse-|ment arrière et salto arrière groupé avec ½ t.\\t|Scherbo entry to salto bwd. tucked with ½ turn.\\t|Entrada de Scherbo y mortal atrás agrupado|con ½ g.')\n",
      "('459', 'Rondade, saut arrière avec 1/1 t. et renverse-|ment arrière et salto arrière carpé.\\t|Scherbo entry to salto bwd. piked.\\t|Entrada de Scherbo y mortal atrás en carpa.')\n",
      "('458', 'Rondade, saut arrière avec 1/1 t. et renverse-|ment arrière et salto arrière groupé.\\t|Scherbo entry to salto bwd. tucked.\\t|Entrada de Scherbo y mortal atrás agr.')\n",
      "('455', 'Rondade, saut arrière avec 1/1 t. et renverse-|ment arrière.\\t|Scherbo entry to back handspring.|Entrada de Scherbo e inversión atrás.')\n",
      "('456', '|Rondade, saut arrière avec 1/1 t. et renverse-|ment arrière avec ½ tour.\\t|Scherbo entry to back handspring with ½|turn.\\t\\t|Entrada de Scherbo e inversión atrás con ½ g.')\n",
      "('449', 'Rondade, ½ t. et renversement av. et double |salto avant groupé.\\t|Round off, ½ t. a. hdspr. fwd. and double salto |fwd. tucked.|Rondada, ½ g. paloma doble mortal ad. agr.')\n"
     ]
    }
   ],
   "source": [
    "\n",
    "pattern = r\"(\\d+)\\.\\s+(.*?)\\s*(?=\\|\\d+\\.|\\Z)\"\n",
    "for res in re.findall(pattern, text.replace(\"\\n\", \"|\")):\n",
    "    print(res)\n",
    "    # if res[0] == \"110\":\n",
    "    #     break"
   ]
  },
  {
   "cell_type": "code",
   "execution_count": 45,
   "metadata": {},
   "outputs": [],
   "source": [
    "s = 'Rondade, ½ t. et renversement av. et double |salto avant groupé.\\t|Round off, ½ t. a. hdspr. fwd. and double salto |fwd. tucked.|Rondada, ½ g. paloma doble mortal ad. agr.'"
   ]
  },
  {
   "cell_type": "code",
   "execution_count": 59,
   "metadata": {},
   "outputs": [
    {
     "name": "stdout",
     "output_type": "stream",
     "text": [
      "t Rondade, ½ t. et renversement av. et double |salto avant groupé.\t\n",
      "t Round off, ½ t. a. hdspr. fwd. and double salto |fwd. tucked.\n",
      "t Rondada, ½ g. paloma doble mortal ad. agr.\n"
     ]
    }
   ],
   "source": [
    "for x in re.split(r\"\\|(?=[A-Z])\", s):\n",
    "    print(\"t\", x)"
   ]
  },
  {
   "cell_type": "code",
   "execution_count": 14,
   "metadata": {},
   "outputs": [
    {
     "name": "stdout",
     "output_type": "stream",
     "text": [
      "Appui   facial  horizontal.     (2      s.). [ro:0.9999938676465245]\n",
      " Support scale (2 s.). [fr:0.8571386350232229, it:0.1428585880455012]\n",
      "     Apoyo  facial  horizontal      (2      s.). [es:0.9999951456983701]\n"
     ]
    }
   ],
   "source": [
    "for r in res.split(\"|\"):\n",
    "    print(r, langdetect.detect_langs(r) )\n",
    "\n"
   ]
  },
  {
   "cell_type": "code",
   "execution_count": 34,
   "metadata": {},
   "outputs": [
    {
     "name": "stdout",
     "output_type": "stream",
     "text": [
      "Loading config file\n"
     ]
    },
    {
     "data": {
      "text/plain": [
       "['handstandoverslag / yamashita',\n",
       " 'tsukahara',\n",
       " 'arabier flik-flak / yurchenko',\n",
       " 'streksprong']"
      ]
     },
     "execution_count": 34,
     "metadata": {},
     "output_type": "execute_result"
    }
   ],
   "source": [
    "loadConfig(\"element_grouping.yaml\")[\"apparatuses\"][\"men\"][\"vault\"][\"type\"]"
   ]
  }
 ],
 "metadata": {
  "kernelspec": {
   "display_name": "Python 3",
   "language": "python",
   "name": "python3"
  },
  "language_info": {
   "codemirror_mode": {
    "name": "ipython",
    "version": 3
   },
   "file_extension": ".py",
   "mimetype": "text/x-python",
   "name": "python",
   "nbconvert_exporter": "python",
   "pygments_lexer": "ipython3",
   "version": "3.12.2"
  }
 },
 "nbformat": 4,
 "nbformat_minor": 2
}
