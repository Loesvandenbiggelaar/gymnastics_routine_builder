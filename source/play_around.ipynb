{
 "cells": [
  {
   "cell_type": "code",
   "execution_count": 4,
   "metadata": {},
   "outputs": [],
   "source": [
    "# import PyPDF2\n",
    "import fitz\n",
    "# import copy\n",
    "import os\n",
    "import re"
   ]
  },
  {
   "cell_type": "code",
   "execution_count": 5,
   "metadata": {},
   "outputs": [],
   "source": [
    "file = \"en_2022-2024 WAG COP.pdf\""
   ]
  },
  {
   "cell_type": "code",
   "execution_count": 79,
   "metadata": {},
   "outputs": [
    {
     "name": "stdout",
     "output_type": "stream",
     "text": [
      "FOUND ['6.109', '6.209', '6.309', '6.409', '6.509', '6.110', '6.210', '6.310', '6.410', '6.510', '6.610']\n",
      "assuming Im879 is a judge symbol\n",
      "assuming Im893 is a judge symbol\n",
      "assuming Im882 is a judge symbol\n",
      "assuming Im884 is a judge symbol\n",
      "assuming Im892 is a judge symbol\n",
      "assuming Im877 is a judge symbol\n",
      "assuming Im888 is a judge symbol\n"
     ]
    },
    {
     "ename": "TypeError",
     "evalue": "unsupported operand type(s) for +: 'int' and 'str'",
     "output_type": "error",
     "traceback": [
      "\u001b[1;31m---------------------------------------------------------------------------\u001b[0m",
      "\u001b[1;31mTypeError\u001b[0m                                 Traceback (most recent call last)",
      "Cell \u001b[1;32mIn[79], line 108\u001b[0m\n\u001b[0;32m    106\u001b[0m target_page \u001b[38;5;241m=\u001b[39m \u001b[38;5;241m104\u001b[39m  \u001b[38;5;66;03m# Specify the page number you want to extract text and images from\u001b[39;00m\n\u001b[0;32m    107\u001b[0m regex_pattern \u001b[38;5;241m=\u001b[39m re\u001b[38;5;241m.\u001b[39mcompile(\u001b[38;5;124mr\u001b[39m\u001b[38;5;124m\"\u001b[39m\u001b[38;5;124m(\u001b[39m\u001b[38;5;124m\\\u001b[39m\u001b[38;5;124md+\u001b[39m\u001b[38;5;124m\\\u001b[39m\u001b[38;5;124m.\u001b[39m\u001b[38;5;124m\\\u001b[39m\u001b[38;5;124md+)\u001b[39m\u001b[38;5;124m\\\u001b[39m\u001b[38;5;124ms?\u001b[39m\u001b[38;5;124m\\\u001b[39m\u001b[38;5;124mn\u001b[39m\u001b[38;5;124m\"\u001b[39m)  \u001b[38;5;66;03m# Specify your regex pattern here\u001b[39;00m\n\u001b[1;32m--> 108\u001b[0m \u001b[43mextract_text_and_images\u001b[49m\u001b[43m(\u001b[49m\u001b[43mpdf_file_path\u001b[49m\u001b[43m,\u001b[49m\u001b[43m \u001b[49m\u001b[43moutput_folder\u001b[49m\u001b[43m,\u001b[49m\u001b[43m \u001b[49m\u001b[43mtarget_page\u001b[49m\u001b[43m,\u001b[49m\u001b[43m \u001b[49m\u001b[43mregex_pattern\u001b[49m\u001b[43m)\u001b[49m\n",
      "Cell \u001b[1;32mIn[79], line 98\u001b[0m, in \u001b[0;36mextract_text_and_images\u001b[1;34m(pdf_path, output_folder, target_page, regex_pattern)\u001b[0m\n\u001b[0;32m     95\u001b[0m \u001b[38;5;28;01mif\u001b[39;00m found \u001b[38;5;241m!=\u001b[39m \u001b[38;5;124m\"\u001b[39m\u001b[38;5;124m\"\u001b[39m:\n\u001b[0;32m     96\u001b[0m     image_path \u001b[38;5;241m=\u001b[39m os\u001b[38;5;241m.\u001b[39mpath\u001b[38;5;241m.\u001b[39mjoin(output_folder, \u001b[38;5;124mf\u001b[39m\u001b[38;5;124m\"\u001b[39m\u001b[38;5;124mpage\u001b[39m\u001b[38;5;132;01m{\u001b[39;00mtarget_page\u001b[38;5;132;01m}\u001b[39;00m\u001b[38;5;124m_element_\u001b[39m\u001b[38;5;132;01m{\u001b[39;00mfound\u001b[38;5;132;01m}\u001b[39;00m\u001b[38;5;124m.png\u001b[39m\u001b[38;5;124m\"\u001b[39m)\n\u001b[1;32m---> 98\u001b[0m     \u001b[43mwriteImage\u001b[49m\u001b[43m(\u001b[49m\u001b[43mimage_path\u001b[49m\u001b[43m,\u001b[49m\u001b[43m \u001b[49m\u001b[43mimage_bytes\u001b[49m\u001b[43m)\u001b[49m\n\u001b[0;32m     99\u001b[0m \u001b[38;5;28;01melse\u001b[39;00m:\n\u001b[0;32m    100\u001b[0m     \u001b[38;5;28mprint\u001b[39m(\u001b[38;5;124m\"\u001b[39m\u001b[38;5;124mwarning! could not process \u001b[39m\u001b[38;5;124m\"\u001b[39m, img_info[\u001b[38;5;241m7\u001b[39m])\n",
      "Cell \u001b[1;32mIn[79], line 8\u001b[0m, in \u001b[0;36mwriteImage\u001b[1;34m(image_path, image_bytes, count)\u001b[0m\n\u001b[0;32m      6\u001b[0m     image_path \u001b[38;5;241m=\u001b[39m re\u001b[38;5;241m.\u001b[39msub(\u001b[38;5;124mr\u001b[39m\u001b[38;5;124m\"\u001b[39m\u001b[38;5;124m(\u001b[39m\u001b[38;5;124m\\\u001b[39m\u001b[38;5;124md?).png\u001b[39m\u001b[38;5;124m\"\u001b[39m, count\u001b[38;5;241m+\u001b[39m\u001b[38;5;124m\"\u001b[39m\u001b[38;5;124m.png\u001b[39m\u001b[38;5;124m\"\u001b[39m, image_path)\n\u001b[0;32m      7\u001b[0m \u001b[38;5;28;01mif\u001b[39;00m os\u001b[38;5;241m.\u001b[39mpath\u001b[38;5;241m.\u001b[39mexists(image_path):\n\u001b[1;32m----> 8\u001b[0m     \u001b[43mwriteImage\u001b[49m\u001b[43m(\u001b[49m\u001b[43mimage_path\u001b[49m\u001b[43m,\u001b[49m\u001b[43m \u001b[49m\u001b[43mimage_bytes\u001b[49m\u001b[43m,\u001b[49m\u001b[43m \u001b[49m\u001b[43mcount\u001b[49m\u001b[38;5;241;43m+\u001b[39;49m\u001b[38;5;241;43m1\u001b[39;49m\u001b[43m)\u001b[49m\n\u001b[0;32m      9\u001b[0m \u001b[38;5;28;01melse\u001b[39;00m:\n\u001b[0;32m     10\u001b[0m     \u001b[38;5;28;01mwith\u001b[39;00m \u001b[38;5;28mopen\u001b[39m(image_path, \u001b[38;5;124m\"\u001b[39m\u001b[38;5;124mwb\u001b[39m\u001b[38;5;124m\"\u001b[39m) \u001b[38;5;28;01mas\u001b[39;00m image_file:\n",
      "Cell \u001b[1;32mIn[79], line 6\u001b[0m, in \u001b[0;36mwriteImage\u001b[1;34m(image_path, image_bytes, count)\u001b[0m\n\u001b[0;32m      4\u001b[0m     image_path \u001b[38;5;241m=\u001b[39m image_path\u001b[38;5;241m.\u001b[39mreplace(\u001b[38;5;124m\"\u001b[39m\u001b[38;5;124m.png\u001b[39m\u001b[38;5;124m\"\u001b[39m, \u001b[38;5;124mf\u001b[39m\u001b[38;5;124m\"\u001b[39m\u001b[38;5;124m_\u001b[39m\u001b[38;5;132;01m{\u001b[39;00mcount\u001b[38;5;132;01m}\u001b[39;00m\u001b[38;5;124m.png\u001b[39m\u001b[38;5;124m\"\u001b[39m)\n\u001b[0;32m      5\u001b[0m \u001b[38;5;28;01melse\u001b[39;00m:\n\u001b[1;32m----> 6\u001b[0m     image_path \u001b[38;5;241m=\u001b[39m re\u001b[38;5;241m.\u001b[39msub(\u001b[38;5;124mr\u001b[39m\u001b[38;5;124m\"\u001b[39m\u001b[38;5;124m(\u001b[39m\u001b[38;5;124m\\\u001b[39m\u001b[38;5;124md?).png\u001b[39m\u001b[38;5;124m\"\u001b[39m, \u001b[43mcount\u001b[49m\u001b[38;5;241;43m+\u001b[39;49m\u001b[38;5;124;43m\"\u001b[39;49m\u001b[38;5;124;43m.png\u001b[39;49m\u001b[38;5;124;43m\"\u001b[39;49m, image_path)\n\u001b[0;32m      7\u001b[0m \u001b[38;5;28;01mif\u001b[39;00m os\u001b[38;5;241m.\u001b[39mpath\u001b[38;5;241m.\u001b[39mexists(image_path):\n\u001b[0;32m      8\u001b[0m     writeImage(image_path, image_bytes, count\u001b[38;5;241m+\u001b[39m\u001b[38;5;241m1\u001b[39m)\n",
      "\u001b[1;31mTypeError\u001b[0m: unsupported operand type(s) for +: 'int' and 'str'"
     ]
    }
   ],
   "source": [
    "def writeImage(image_path, image_bytes, count=1):\n",
    "    # string = \"page80_element_2.405_1.png\"\n",
    "    if count == 1:\n",
    "        image_path = image_path.replace(\".png\", f\"_{count}.png\")\n",
    "    else:\n",
    "        image_path = re.sub(r\"(\\d?).png\", count+\".png\", image_path)\n",
    "    if os.path.exists(image_path):\n",
    "        writeImage(image_path, image_bytes, count+1)\n",
    "    else:\n",
    "        with open(image_path, \"wb\") as image_file:\n",
    "            image_file.write(image_bytes)\n",
    "\n",
    "def getPageLayout(page):\n",
    "    bbox = page.bleedbox\n",
    "    if bbox.x1-bbox.y1 < 0:\n",
    "        return \"portrait\"\n",
    "    else:\n",
    "        return \"landscape\"\n",
    "    \n",
    "def extract_text_and_images(pdf_path, output_folder, target_page, regex_pattern):\n",
    "    # Create output folder if it doesn't exist\n",
    "    if not os.path.exists(output_folder):\n",
    "        os.makedirs(output_folder)\n",
    "\n",
    "    # Open the PDF file\n",
    "    pdf_document = fitz.open(pdf_path)\n",
    "    \n",
    "    # Check if the target page is within the range of pages\n",
    "    if target_page < 0 or target_page >= len(pdf_document):\n",
    "        print(\"Error: Invalid target page number.\")\n",
    "        return\n",
    "    \n",
    "    page = pdf_document.load_page(target_page)\n",
    "    page_layout = getPageLayout(page)\n",
    "\n",
    "    # Extract text from the page\n",
    "    page_text = page.get_text()\n",
    "    # print(page_text)\n",
    "    found_text = re.findall(regex_pattern, page_text)\n",
    "    print(\"FOUND\", found_text)\n",
    "    # Extract images and their positions\n",
    "    images = page.get_images(full=True)\n",
    "    \n",
    "    # Loop through images on the page\n",
    "    for img_info in images:\n",
    "        xref = img_info[0]\n",
    "        base_image = pdf_document.extract_image(xref)\n",
    "        image_bytes = base_image[\"image\"]\n",
    "\n",
    "        # Get the text closest and above the image\n",
    "        bbox_image = page.get_image_bbox(img_info[7])\n",
    "        # print(\"bbox img\", bbox_image)\n",
    "\n",
    "        if (bbox_image.bottom_right - bbox_image.top_left)[0] < 75:\n",
    "            # assumed to be a \n",
    "            print(\"assuming\", img_info[7], \"is a judge symbol\")\n",
    "            continue\n",
    "\n",
    "\n",
    "        found = \"\"\n",
    "    \n",
    "        optionA = []\n",
    "        closestx = 1e6\n",
    "        for item in found_text:\n",
    "            for field in page.search_for(item):\n",
    "                if page_layout == \"portrait\":\n",
    "                    text_y1 = field.x1\n",
    "                    text_x1 = abs(field.y0 - page.bleedbox.y1)\n",
    "                else:\n",
    "                    text_y1 = field.y1\n",
    "                    text_x1 = field.x1\n",
    "                x = round(bbox_image.y0 - round(text_y1))\n",
    "                # print(field)\n",
    "                # print(bbox_image)\n",
    "                if x < 0:\n",
    "                    continue\n",
    "                if x < 15:\n",
    "                    # In this case the number is too close to the picture and it is assumed its a number from the points; e.g. \"3.20 P.\" instead of element 3.20\n",
    "                    continue\n",
    "                if x == closestx:\n",
    "                    optionA.append(item)\n",
    "                    closestx = x\n",
    "                elif x < closestx:\n",
    "                    optionA = [item]\n",
    "                    closestx = x\n",
    "                # print(optionA)\n",
    "                for option in optionA:\n",
    "                    # print(field)\n",
    "                    # print(bbox_image.x0, text_x1, bbox_image.x1)\n",
    "                    if bbox_image.x0 < text_x1 < bbox_image.x1:\n",
    "                        # print(\"hurray\", item)\n",
    "                        found = option\n",
    "                        pass\n",
    "            \n",
    "        if found != \"\":\n",
    "            image_path = os.path.join(output_folder, f\"page{target_page}_element_{found}.png\")\n",
    "            \n",
    "            writeImage(image_path, image_bytes)\n",
    "        else:\n",
    "            print(\"warning! could not process \", img_info[7])\n",
    "    pdf_document.close()\n",
    "\n",
    "# Example usage\n",
    "pdf_file_path = file\n",
    "output_folder = \"../data/images/\"\n",
    "target_page = 104  # Specify the page number you want to extract text and images from\n",
    "regex_pattern = re.compile(r\"(\\d+\\.\\d+)\\s?\\n\")  # Specify your regex pattern here\n",
    "extract_text_and_images(pdf_file_path, output_folder, target_page, regex_pattern)\n"
   ]
  },
  {
   "cell_type": "code",
   "execution_count": 86,
   "metadata": {},
   "outputs": [
    {
     "data": {
      "text/plain": [
       "'landscape'"
      ]
     },
     "execution_count": 86,
     "metadata": {},
     "output_type": "execute_result"
    }
   ],
   "source": [
    "pdf_document = fitz.open(file)\n",
    "page = pdf_document.load_page(page_id=104)\n",
    "getPageLayout(page=page)"
   ]
  },
  {
   "cell_type": "code",
   "execution_count": 87,
   "metadata": {},
   "outputs": [
    {
     "name": "stdout",
     "output_type": "stream",
     "text": [
      "['6.109', '6.209', '6.309', '6.409', '6.509', '6.609', '6.110', '6.210', '6.310', '6.410', '6.510', '6.610']\n"
     ]
    }
   ],
   "source": [
    "page_text = page.get_text()\n",
    "# print(page_text)\n",
    "found_text = re.findall(r\"(\\d+\\.\\d+)\\s+\\n+(?!P\\.)\", page_text)\n",
    "print(found_text)"
   ]
  },
  {
   "cell_type": "code",
   "execution_count": 88,
   "metadata": {},
   "outputs": [
    {
     "data": {
      "text/plain": [
       "'6.000 DISMOUNTS \\nUB – Group 6 - 7 \\nA \\nB \\nC \\nD \\nE \\nF/G \\n6.109 \\n \\n6.209 \\nHip circle bwd (also clear) on \\nLB or HB – hecht \\n \\n \\n6.309 \\nHip circle bwd (also clear) on LB or HB – \\nhecht with 1/1 turn (360°) \\n \\n6.409 \\nHip circle bwd (also clear) on LB or \\nHB – hecht with salto bwd tucked  \\n   (Mukhina) \\n \\n \\n6.509 \\nHip circle bwd (also clear) on LB \\nor HB – hecht with ½ turn (180°) \\nto salto fwd tucked \\n \\n \\n6.609  \\nHip circle bwd (also clear) on \\nLB or HB – hecht with 1/1 turn \\n(360°) to salto bwd tucked  \\n   (Ma) \\n \\n \\n \\n \\n6.110 \\n \\n \\n \\n \\n \\n \\n \\n \\n \\n \\n \\n \\n \\n \\n \\n \\n \\n \\n \\n \\n6.210 \\nOn HB - salto fwd tucked \\n \\n \\n6.310 \\nOn HB – salto fwd piked or salto bwd \\ntucked or piked  \\n   (Delladio / Parolari) \\n \\n \\n \\n \\n \\n \\n \\n \\n \\n \\n \\n \\n \\n \\n \\n \\n6.410 \\n \\n6.510 \\n \\n \\n6.610 \\n \\n \\n \\n'"
      ]
     },
     "execution_count": 88,
     "metadata": {},
     "output_type": "execute_result"
    }
   ],
   "source": [
    "page_text"
   ]
  },
  {
   "cell_type": "code",
   "execution_count": 89,
   "metadata": {},
   "outputs": [
    {
     "data": {
      "text/plain": [
       "Rect(292.9999694824219, 224.451171875, 391.7850646972656, 293.2025451660156)"
      ]
     },
     "execution_count": 89,
     "metadata": {},
     "output_type": "execute_result"
    }
   ],
   "source": [
    "n = page.get_images()[17]\n",
    "page.get_image_bbox(n[7])\n"
   ]
  },
  {
   "cell_type": "code",
   "execution_count": null,
   "metadata": {},
   "outputs": [],
   "source": []
  },
  {
   "cell_type": "code",
   "execution_count": 80,
   "metadata": {},
   "outputs": [
    {
     "data": {
      "text/plain": [
       "'landscape'"
      ]
     },
     "execution_count": 80,
     "metadata": {},
     "output_type": "execute_result"
    }
   ],
   "source": []
  },
  {
   "cell_type": "code",
   "execution_count": 90,
   "metadata": {},
   "outputs": [],
   "source": [
    "# left, up, right, bottom\n",
    "# clip = fitz.Rect(28.19099998474121 - 50, 113.76000213623047 - 50, 145.79100036621094 + 50, 186.24000549316406)\n",
    "clip = page.get_image_bbox(page.get_images()[17][7])\n",
    "# clip = fitz.Rect(168.59100341796875, 103.19999694824219 - 50, 277.0710144042969, 162.72000122070312)\n",
    "pix = page.get_pixmap(matrix=fitz.Matrix(2, 2), clip=clip)\n",
    "pix.save(\"test.png\")"
   ]
  },
  {
   "cell_type": "code",
   "execution_count": 105,
   "metadata": {},
   "outputs": [
    {
     "name": "stdout",
     "output_type": "stream",
     "text": [
      "6.109 Rect(28.31999969482422, 57.42161560058594, 48.38102722167969, 66.40380096435547)\n",
      "6.209 Rect(146.3000030517578, 57.42161560058594, 166.36102294921875, 66.40380096435547)\n",
      "6.309 Rect(271.489990234375, 57.42161560058594, 291.551025390625, 66.40380096435547)\n",
      "6.409 Rect(428.69000244140625, 57.42161560058594, 448.75103759765625, 66.40380096435547)\n",
      "6.509 Rect(570.1900024414062, 57.42161560058594, 590.2510986328125, 66.40380096435547)\n",
      "6.609 Rect(699.8200073242188, 57.42161560058594, 719.881103515625, 66.40380096435547)\n",
      "6.110 Rect(28.31999969482422, 333.3515930175781, 48.38102722167969, 342.33380126953125)\n",
      "6.210 Rect(146.3000030517578, 333.3515930175781, 166.36102294921875, 342.33380126953125)\n",
      "6.310 Rect(271.489990234375, 333.3515930175781, 291.551025390625, 342.33380126953125)\n",
      "6.410 Rect(428.69000244140625, 333.3515930175781, 448.75103759765625, 342.33380126953125)\n",
      "6.510 Rect(570.1900024414062, 333.3515930175781, 590.2510986328125, 342.33380126953125)\n",
      "6.610 Rect(699.8200073242188, 333.3515930175781, 719.881103515625, 342.33380126953125)\n",
      "['6.109', '6.209', '6.309', '6.409', '6.509', '6.609']\n",
      "Rect(292.9999694824219, 224.451171875, 391.7850646972656, 293.2025451660156)\n"
     ]
    },
    {
     "data": {
      "text/plain": [
       "['6.109', '6.209', '6.309', '6.409', '6.509', '6.609']"
      ]
     },
     "execution_count": 105,
     "metadata": {},
     "output_type": "execute_result"
    }
   ],
   "source": [
    "optionA = []\n",
    "closestx = 1e6\n",
    "for item in found_text:\n",
    "    fields = page.search_for(item)\n",
    "    # print(fields)\n",
    "    # continue\n",
    "    for field in fields:\n",
    "        left,up,right,bottom = field\n",
    "        text_y1 = field.y1\n",
    "        # text_x1 = field.x1\n",
    "        text_x1= page.search_for(item)[0].x1\n",
    "\n",
    "        # x = round(bbox_image.y0 - round(text_y1))\n",
    "                \n",
    "        x = round(clip.y0 - round(number=text_y1))\n",
    "        print(item,    field)\n",
    "        # print(x)\n",
    "        # print(item,  page.bleedbox.x1 - left )\n",
    "        # print(item, x, clip.y0, right)\n",
    "        if x < 0:\n",
    "            continue\n",
    "        if x < 15:\n",
    "            continue\n",
    "        if x == closestx:\n",
    "            optionA.append(item)\n",
    "            closestx = x\n",
    "        elif x < closestx:\n",
    "            optionA = [item]\n",
    "            closestx = x\n",
    "print(optionA)\n",
    "for i in optionA:\n",
    "    # print(clip.x0, abs(x1_text- page.bleedbox.y1), clip.x1)\n",
    "    if clip.x0 < abs(text_x1- page.bleedbox.y1) < clip.x1:\n",
    "        print(\"hurray\", i)\n",
    "        pass\n",
    "print(clip)              \n",
    "optionA\n",
    "    # print(round(left))"
   ]
  },
  {
   "cell_type": "code",
   "execution_count": 60,
   "metadata": {},
   "outputs": [
    {
     "data": {
      "text/plain": [
       "'3.35 '"
      ]
     },
     "execution_count": 60,
     "metadata": {},
     "output_type": "execute_result"
    }
   ],
   "source": [
    "page.get_textbox((358.2958984375, 129.9893798828125, 367.2110595703125, 147.74560546875))"
   ]
  },
  {
   "cell_type": "code",
   "execution_count": 120,
   "metadata": {},
   "outputs": [
    {
     "data": {
      "text/plain": [
       "87"
      ]
     },
     "execution_count": 120,
     "metadata": {},
     "output_type": "execute_result"
    }
   ],
   "source": [
    "len(os.listdir(\"../data/images/vault\"))"
   ]
  }
 ],
 "metadata": {
  "kernelspec": {
   "display_name": "Python 3",
   "language": "python",
   "name": "python3"
  },
  "language_info": {
   "codemirror_mode": {
    "name": "ipython",
    "version": 3
   },
   "file_extension": ".py",
   "mimetype": "text/x-python",
   "name": "python",
   "nbconvert_exporter": "python",
   "pygments_lexer": "ipython3",
   "version": "3.12.1"
  }
 },
 "nbformat": 4,
 "nbformat_minor": 2
}
